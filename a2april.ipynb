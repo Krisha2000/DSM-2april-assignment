{
 "cells": [
  {
   "cell_type": "markdown",
   "id": "190d3335-d62a-410d-8205-e24353c8f37b",
   "metadata": {},
   "source": [
    "# Quetion : 1"
   ]
  },
  {
   "cell_type": "markdown",
   "id": "633c68e4-1b92-430d-a11d-6ce29d404f6a",
   "metadata": {},
   "source": [
    "The purpose of grid search CV (Cross-Validation) in machine learning is to systematically search for the optimal combination of hyperparameters for a given model. Hyperparameters are parameters that are not learned from the data but set prior to training and can significantly impact the model's performance.\n",
    "\n",
    "Grid search CV works by defining a grid of hyperparameter values to explore. It exhaustively evaluates all possible combinations of hyperparameters by training and evaluating the model using cross-validation. Cross-validation is used to estimate the model's performance on unseen data by dividing the available data into multiple subsets (folds). Each fold is used as a validation set, and the model is trained on the remaining folds. This process is repeated for each combination of hyperparameters, and the performance metric (e.g., accuracy, F1 score) is recorded. Finally, the combination of hyperparameters that yielded the best performance metric is selected as the optimal configuration for the model."
   ]
  },
  {
   "cell_type": "markdown",
   "id": "c0264f25-8eb9-4689-9b88-d325f33c41ad",
   "metadata": {},
   "source": [
    "# Quetion : 2"
   ]
  },
  {
   "cell_type": "markdown",
   "id": "9b0a5c7f-309b-44f6-a60d-d64555e8996f",
   "metadata": {},
   "source": [
    "The main difference between grid search CV and randomized search CV is the way they explore the hyperparameter space.\n",
    "\n",
    "In grid search CV, a predefined grid of hyperparameter values is created, and all possible combinations are exhaustively evaluated. It explores the entire parameter space defined by the grid. This approach is suitable when the search space is relatively small and the computational resources are available to evaluate all combinations.\n",
    "\n",
    "On the other hand, randomized search CV randomly selects a subset of hyperparameter combinations from a predefined distribution. It does not evaluate all possible combinations but rather samples a fixed number of configurations. This method is useful when the hyperparameter search space is large, as it can be computationally expensive to exhaustively evaluate all combinations. Randomized search CV offers a good trade-off between exploration and computational efficiency.\n",
    "\n",
    "The choice between grid search CV and randomized search CV depends on the size of the search space, available computational resources, and the desired balance between exploration and efficiency."
   ]
  },
  {
   "cell_type": "markdown",
   "id": "48a1f6c9-a4e9-4766-aac6-7c592235005f",
   "metadata": {},
   "source": [
    "# Quetion : 3"
   ]
  },
  {
   "cell_type": "markdown",
   "id": "b4936724-5df2-4fda-b7d8-22e6ea2715e8",
   "metadata": {},
   "source": [
    "Data leakage refers to a situation where information from outside the training data is used inappropriately during the model training process, leading to overly optimistic performance estimates or biased models. It occurs when the training data contains information that would not be available in a real-world scenario where the model is deployed.\n",
    "\n",
    "Data leakage can happen in various ways, but the two main types are:\n",
    "\n",
    "Train-Test Contamination: This occurs when information from the test set inadvertently leaks into the training set. For example, if feature engineering or preprocessing steps involve computing statistics (mean, max, etc.) on the entire dataset (training + test), the model might inadvertently learn information from the test set, leading to overestimated performance during evaluation.\n",
    "\n",
    "Temporal Leakage: This occurs when information from the future (data points that would not be available at the time of prediction) leaks into the model during training. For instance, if time series data is improperly handled, and future information is used to predict past events, it can lead to unrealistic performance estimates."
   ]
  },
  {
   "cell_type": "markdown",
   "id": "04a18eab-eafa-490a-bb5b-3180bc977c06",
   "metadata": {},
   "source": [
    "# Quetion : 4"
   ]
  },
  {
   "cell_type": "markdown",
   "id": "e90b2f93-fbee-4a2d-88fc-3ca4fb6a654c",
   "metadata": {},
   "source": [
    " To prevent data leakage when building a machine learning model, you can take the following precautions:\n",
    "\n",
    "Splitting Data Properly: Ensure that the data is divided into distinct sets for training, validation, and testing. The test set should be completely independent and not used in any part of the model development process until the final evaluation.\n",
    "\n",
    "Feature Engineering within Cross-Validation Folds: Perform any feature engineering or preprocessing steps inside the cross-validation loop. This ensures that each fold is processed independently and prevents information leakage from one fold to another.\n",
    "\n",
    "Use Pipelines: Utilize scikit-learn's Pipeline functionality to encapsulate preprocessing steps, feature selection, and model training. This helps maintain the integrity of the data and prevents leakage by ensuring that transformations are applied correctly within each fold of cross-validation."
   ]
  },
  {
   "cell_type": "markdown",
   "id": "ad3bb138-d4ca-4ea1-b4d4-d49f01c6a597",
   "metadata": {},
   "source": [
    "# Quetion : 5"
   ]
  },
  {
   "cell_type": "markdown",
   "id": "3882ae0e-ae65-4cdb-afda-16af3c5ffacc",
   "metadata": {},
   "source": [
    " A confusion matrix is a table that summarizes the performance of a classification model by comparing the predicted labels with the actual labels of a dataset. It provides a comprehensive view of the model's predictions and helps evaluate its performance across different classes.\n",
    "\n",
    "A typical confusion matrix has actual class labels as rows and predicted class labels as columns. The diagonal elements of the matrix represent the correctly predicted instances for each class, while the off-diagonal elements represent the misclassifications. It gives insights into the true positives (TP), true negatives (TN), false positives (FP), and false negatives (FN) for each class."
   ]
  },
  {
   "cell_type": "markdown",
   "id": "9787ac53-3b7e-4a8d-b550-d08313eb70e2",
   "metadata": {},
   "source": [
    "# Quetion : 6"
   ]
  },
  {
   "cell_type": "markdown",
   "id": "1f715eca-f79c-44df-82f9-33d358500fad",
   "metadata": {},
   "source": [
    "Precision and recall are performance metrics derived from the confusion matrix and provide insights into different aspects of a classification model's performance.\n",
    "\n",
    "Precision measures how many of the positively predicted instances are actually true positives. It focuses on the proportion of correctly predicted positive instances out of all instances predicted as positive. Precision is calculated as TP / (TP + FP).\n",
    "\n",
    "Recall, also known as sensitivity or true positive rate, measures how many of the actual positive instances are correctly identified by the model. It focuses on the proportion of correctly predicted positive instances out of all actual positive instances. Recall is calculated as TP / (TP + FN)."
   ]
  },
  {
   "cell_type": "markdown",
   "id": "1797185e-f0d3-42b9-b057-659ade7d541f",
   "metadata": {},
   "source": [
    "# Quetion : 7"
   ]
  },
  {
   "cell_type": "markdown",
   "id": "faad23ec-c86a-4910-9b3c-a3d7e1fe37c9",
   "metadata": {},
   "source": [
    "By examining the values in a confusion matrix, you can interpret the types of errors your model is making:\n",
    "\n",
    "True Positives (TP): Instances that are correctly predicted as positive.\n",
    "True Negatives (TN): Instances that are correctly predicted as negative.\n",
    "False Positives (FP): Instances that are incorrectly predicted as positive (Type I error).\n",
    "False Negatives (FN): Instances that are incorrectly predicted as negative (Type II error).\n",
    "Analyzing the values in the confusion matrix allows you to understand which types of errors your model is making. For example, a high number of false positives suggests that the model is labeling instances as positive when they are actually negative. Similarly, a high number of false negatives indicates that the model is failing to identify positive instances correctly.\n",
    "\n"
   ]
  },
  {
   "cell_type": "markdown",
   "id": "d7d40da9-8659-478a-854a-c7109df33b9d",
   "metadata": {},
   "source": [
    "# Quetion : 8"
   ]
  },
  {
   "cell_type": "markdown",
   "id": "ef5c9ad1-ecb4-4a97-a6dd-6680e6654966",
   "metadata": {},
   "source": [
    "Several common metrics can be derived from a confusion matrix:\n",
    "\n",
    "Accuracy: It measures the overall correctness of the model's predictions and is calculated as (TP + TN) / (TP + TN + FP + FN).\n",
    "Precision: It quantifies the proportion of correctly predicted positive instances out of all instances predicted as positive. Precision = TP / (TP + FP).\n",
    "Recall: It measures the proportion of correctly predicted positive instances out of all actual positive instances. Recall = TP / (TP + FN).\n",
    "F1 Score: It is the harmonic mean of precision and recall, providing a balanced measure of the model's performance. F1 Score = 2 * (Precision * Recall) / (Precision + Recall).\n",
    "These metrics offer different perspectives on the model's performance, emphasizing aspects such as overall correctness, the ability to correctly identify positive instances, and the balance between precision and recall."
   ]
  },
  {
   "cell_type": "markdown",
   "id": "03bdaba2-e038-4786-93e5-5696809f2ba9",
   "metadata": {},
   "source": [
    "# Quetion : 9"
   ]
  },
  {
   "cell_type": "code",
   "execution_count": null,
   "id": "327287d0-4f10-456c-b203-c6c58ccf6403",
   "metadata": {},
   "outputs": [],
   "source": []
  },
  {
   "cell_type": "markdown",
   "id": "748449a1-1e2c-4118-9769-8586096ac8b7",
   "metadata": {},
   "source": [
    "# Quetion : 10"
   ]
  },
  {
   "cell_type": "code",
   "execution_count": null,
   "id": "ce34f031-0aed-4192-ba23-88bbc9199ebd",
   "metadata": {},
   "outputs": [],
   "source": []
  }
 ],
 "metadata": {
  "kernelspec": {
   "display_name": "Python 3 (ipykernel)",
   "language": "python",
   "name": "python3"
  },
  "language_info": {
   "codemirror_mode": {
    "name": "ipython",
    "version": 3
   },
   "file_extension": ".py",
   "mimetype": "text/x-python",
   "name": "python",
   "nbconvert_exporter": "python",
   "pygments_lexer": "ipython3",
   "version": "3.10.8"
  }
 },
 "nbformat": 4,
 "nbformat_minor": 5
}
